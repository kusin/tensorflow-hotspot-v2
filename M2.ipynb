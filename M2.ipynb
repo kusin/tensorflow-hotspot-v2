{
 "cells": [
  {
   "cell_type": "markdown",
   "metadata": {},
   "source": [
    "## M2 - Model prediksi titik panas di Sumatera Selatan 2001 - 2023"
   ]
  },
  {
   "cell_type": "code",
   "execution_count": 1,
   "metadata": {},
   "outputs": [],
   "source": [
    "# load all functions\n",
    "from C01_data_collection import *\n",
    "from C02_visualization import *\n",
    "from C03_preprocessing import *\n",
    "from C04_model_predictions import *\n",
    "from C05_model_evaluate import *"
   ]
  },
  {
   "cell_type": "markdown",
   "metadata": {},
   "source": [
    "- config models"
   ]
  },
  {
   "cell_type": "code",
   "execution_count": 2,
   "metadata": {},
   "outputs": [],
   "source": [
    "# set random number\n",
    "import random as rm\n",
    "rm.seed(1234)\n",
    "\n",
    "# set random number\n",
    "import numpy as np\n",
    "np.random.seed(1234)\n",
    "\n",
    "# set random number\n",
    "import tensorflow as tf\n",
    "tf.random.set_seed(1234)"
   ]
  },
  {
   "cell_type": "markdown",
   "metadata": {},
   "source": [
    "### 1. Data Collections"
   ]
  },
  {
   "cell_type": "code",
   "execution_count": 3,
   "metadata": {},
   "outputs": [
    {
     "name": "stdout",
     "output_type": "stream",
     "text": [
      "      acq_date  hotspot  sst_anom  oni_anom  soi_anom\n",
      "273 2023-10-31     3200      1.59      1.78      -0.8\n",
      "274 2023-11-30      390      1.90      1.92      -1.3\n",
      "275 2023-12-31       42      1.99      1.97      -0.4\n"
     ]
    }
   ],
   "source": [
    "# load dataset\n",
    "dataset = data_hotspot(\"dataset_enso.csv\")\n",
    "print(dataset.tail(3))"
   ]
  },
  {
   "cell_type": "markdown",
   "metadata": {},
   "source": [
    "### 2. Data Preprocessing"
   ]
  },
  {
   "cell_type": "code",
   "execution_count": 4,
   "metadata": {},
   "outputs": [],
   "source": [
    "# prosess normalization min-max\n",
    "scaler, scaled = normalized(dataset, [\"hotspot\", \"sst_anom\", \"oni_anom\", \"soi_anom\"])"
   ]
  },
  {
   "cell_type": "code",
   "execution_count": 5,
   "metadata": {},
   "outputs": [
    {
     "data": {
      "text/plain": [
       "array([[-1.     , -0.61485, -0.5514 ,  0.36   ],\n",
       "       [-0.99972, -0.52204, -0.47664,  0.6    ],\n",
       "       [-0.99903, -0.43387, -0.43925,  0.34   ]])"
      ]
     },
     "execution_count": 5,
     "metadata": {},
     "output_type": "execute_result"
    }
   ],
   "source": [
    "# hasil normalisasi data\n",
    "np.round(scaled[:3],5)"
   ]
  },
  {
   "cell_type": "markdown",
   "metadata": {},
   "source": [
    "### 3. Pembagian Data"
   ]
  },
  {
   "cell_type": "code",
   "execution_count": 6,
   "metadata": {},
   "outputs": [],
   "source": [
    "# proses pembagian data\n",
    "x_train, y_train, x_test, y_test = results_multivariate_supervised(scaled)"
   ]
  },
  {
   "cell_type": "code",
   "execution_count": 7,
   "metadata": {},
   "outputs": [
    {
     "name": "stdout",
     "output_type": "stream",
     "text": [
      "(216, 1, 4) (216,)\n"
     ]
    }
   ],
   "source": [
    "# cek dimensi data\n",
    "print(x_train.shape, y_train.shape)"
   ]
  },
  {
   "cell_type": "code",
   "execution_count": 8,
   "metadata": {},
   "outputs": [
    {
     "name": "stdout",
     "output_type": "stream",
     "text": [
      "(59, 1, 4) (59,)\n"
     ]
    }
   ],
   "source": [
    "# cek dimensi data\n",
    "print(x_test.shape, y_test.shape)"
   ]
  },
  {
   "cell_type": "code",
   "execution_count": null,
   "metadata": {},
   "outputs": [],
   "source": []
  },
  {
   "cell_type": "code",
   "execution_count": null,
   "metadata": {},
   "outputs": [],
   "source": []
  }
 ],
 "metadata": {
  "kernelspec": {
   "display_name": "base",
   "language": "python",
   "name": "python3"
  },
  "language_info": {
   "codemirror_mode": {
    "name": "ipython",
    "version": 3
   },
   "file_extension": ".py",
   "mimetype": "text/x-python",
   "name": "python",
   "nbconvert_exporter": "python",
   "pygments_lexer": "ipython3",
   "version": "3.11.9"
  }
 },
 "nbformat": 4,
 "nbformat_minor": 2
}
