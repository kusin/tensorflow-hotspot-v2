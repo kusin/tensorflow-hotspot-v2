{
 "cells": [
  {
   "cell_type": "markdown",
   "metadata": {},
   "source": [
    "## M2 - Model prediksi titik panas di Sumatera Selatan 2001 - 2023"
   ]
  },
  {
   "cell_type": "code",
   "execution_count": null,
   "metadata": {},
   "outputs": [],
   "source": [
    "# load all functions\n",
    "from C01_data_collection import *\n",
    "from C02_visualization import *\n",
    "from C03_preprocessing import *\n",
    "from C04_model_predictions import *\n",
    "from C05_model_evaluate import *"
   ]
  },
  {
   "cell_type": "markdown",
   "metadata": {},
   "source": [
    "- config models"
   ]
  },
  {
   "cell_type": "code",
   "execution_count": null,
   "metadata": {},
   "outputs": [],
   "source": [
    "# # set random number\n",
    "# import random as rm\n",
    "# rm.seed(1234)\n",
    "\n",
    "# # set random number\n",
    "# import numpy as np\n",
    "# np.random.seed(1234)\n",
    "\n",
    "# set random number\n",
    "import tensorflow as tf\n",
    "tf.random.set_seed(1234)"
   ]
  },
  {
   "cell_type": "markdown",
   "metadata": {},
   "source": [
    "### 1. Data Collections"
   ]
  },
  {
   "cell_type": "code",
   "execution_count": null,
   "metadata": {},
   "outputs": [],
   "source": [
    "# load dataset\n",
    "dataset = data_hotspot(\"dataset_enso.csv\")\n",
    "print(dataset.tail(3))"
   ]
  },
  {
   "cell_type": "markdown",
   "metadata": {},
   "source": [
    "### 2. Data Preprocessing"
   ]
  },
  {
   "cell_type": "code",
   "execution_count": null,
   "metadata": {},
   "outputs": [],
   "source": [
    "# prosess normalization min-max\n",
    "scaler, scaled = normalized(dataset, [\"hotspot\", \"sst_anom\", \"oni_anom\", \"soi_anom\"])"
   ]
  },
  {
   "cell_type": "code",
   "execution_count": null,
   "metadata": {},
   "outputs": [],
   "source": [
    "# hasil normalisasi data\n",
    "np.round(scaled[:3],5)"
   ]
  },
  {
   "cell_type": "markdown",
   "metadata": {},
   "source": [
    "### 3. Pembagian Data"
   ]
  },
  {
   "cell_type": "code",
   "execution_count": null,
   "metadata": {},
   "outputs": [],
   "source": [
    "# proses pembagian data\n",
    "x_train, y_train, x_test, y_test = results_multivariate_supervised(scaled)"
   ]
  },
  {
   "cell_type": "code",
   "execution_count": null,
   "metadata": {},
   "outputs": [],
   "source": [
    "# cek dimensi data\n",
    "print(x_train.shape, y_train.shape)"
   ]
  },
  {
   "cell_type": "code",
   "execution_count": null,
   "metadata": {},
   "outputs": [],
   "source": [
    "# cek dimensi data\n",
    "print(x_test.shape, y_test.shape)"
   ]
  },
  {
   "cell_type": "markdown",
   "metadata": {},
   "source": [
    "### 4. Algoritma LSTM-RNN"
   ]
  },
  {
   "cell_type": "markdown",
   "metadata": {},
   "source": [
    "#### 4.1 SBi-LSTM-RNN"
   ]
  },
  {
   "cell_type": "code",
   "execution_count": null,
   "metadata": {},
   "outputs": [],
   "source": [
    "# call models LSTM\n",
    "# param : algorithm, timestep, activation, optimizer, dropout\n",
    "lstm_model = get_models(\n",
    "  algorithm=\"SBi-LSTM\", timestep=x_train, activation=\"relu\", optimizer=\"rmsprop\", dropout=0.20\n",
    ")"
   ]
  },
  {
   "cell_type": "code",
   "execution_count": null,
   "metadata": {},
   "outputs": [],
   "source": [
    "# compile models\n",
    "# param : model, batch_size, epochs, x_train, y_train, x_test, y_test\n",
    "lstm_history, lstm_predictions = get_prediction(\n",
    "  model=lstm_model, batch_size=32, epochs=1500, x_train=x_train, y_train=y_train, x_test=x_test, y_test=y_test\n",
    ")"
   ]
  },
  {
   "cell_type": "code",
   "execution_count": null,
   "metadata": {},
   "outputs": [],
   "source": [
    "# show loss function\n",
    "lineplot2(\n",
    "  x1=lstm_history.epoch, y1=lstm_history.history['loss'], label1=\"Training\",\n",
    "  x2=lstm_history.epoch, y2=lstm_history.history['val_loss'], label2=\"Validation\",\n",
    "  title=\"Loss Function of SBi-LSTM\"\n",
    ")"
   ]
  },
  {
   "cell_type": "code",
   "execution_count": null,
   "metadata": {},
   "outputs": [],
   "source": [
    "# show result predictions\n",
    "scaler,_ = normalized(dataset, [\"hotspot\"])\n",
    "lineplot3(\n",
    "  x1=dataset[\"acq_date\"].iloc[216:-1], y1=inverse(scaler, y_test.reshape(-1,1)), label1=\"actual data\",\n",
    "  x2=dataset[\"acq_date\"].iloc[216:-1], y2=inverse(scaler, lstm_predictions.reshape(-1,1)), label2=\"results predictions\",\n",
    "  title=\"Results of Predictions Hotspot with SBi-LSTM\"\n",
    ")"
   ]
  },
  {
   "cell_type": "code",
   "execution_count": null,
   "metadata": {},
   "outputs": [],
   "source": [
    "# process evaluate models\n",
    "r, p, mae, rmse, mape = evaluate_models(\n",
    "  ytrue=y_test,\n",
    "  ypred=lstm_predictions,\n",
    ")\n",
    "\n",
    "# results evaluate models\n",
    "print(\"Evaluate Models with SBi-LSTM\")\n",
    "print(\"-----------------------------\")\n",
    "print(\"R       : \"+str(r))\n",
    "print(\"P-value : \"+str(p))\n",
    "print(\"MAE     : \"+str(mae))\n",
    "print(\"RMSE    : \"+str(rmse))\n",
    "print(\"MAPE    : \"+str(mape))"
   ]
  },
  {
   "cell_type": "code",
   "execution_count": null,
   "metadata": {},
   "outputs": [],
   "source": [
    "# process evaluate models\n",
    "r, p, mae, rmse, mape = evaluate_models(\n",
    "  ytrue=inverse(scaler, y_test.reshape(-1,1)),\n",
    "  ypred=inverse(scaler, lstm_predictions.reshape(-1,1)),\n",
    ")\n",
    "\n",
    "# results evaluate models\n",
    "print(\"Evaluate Models with SBi-LSTM\")\n",
    "print(\"-----------------------------\")\n",
    "print(\"R       : \"+str(r))\n",
    "print(\"P-value : \"+str(p))\n",
    "print(\"MAE     : \"+str(mae))\n",
    "print(\"RMSE    : \"+str(rmse))\n",
    "print(\"MAPE    : \"+str(mape*100))"
   ]
  },
  {
   "cell_type": "markdown",
   "metadata": {},
   "source": [
    "#### 4.2 SBi-LSTM-XGBoost"
   ]
  },
  {
   "cell_type": "code",
   "execution_count": null,
   "metadata": {},
   "outputs": [],
   "source": [
    "# call models XGBoost\n",
    "lstm_xgb = get_XGBoost(\n",
    "  xtrue=x_test, ytrue=y_test, ypred=lstm_predictions\n",
    ")"
   ]
  },
  {
   "cell_type": "code",
   "execution_count": null,
   "metadata": {},
   "outputs": [],
   "source": [
    "# show result predictions\n",
    "scaler,_ = normalized(dataset, [\"hotspot\"])\n",
    "lineplot3(\n",
    "  x1=dataset[\"acq_date\"].iloc[216:-1], y1=inverse(scaler, y_test.reshape(-1,1)), label1=\"actual data\",\n",
    "  x2=dataset[\"acq_date\"].iloc[216:-1], y2=inverse(scaler, lstm_xgb.reshape(-1,1)), label2=\"results predictions\",\n",
    "  title=\"Results of Predictions Hotspot with SBi-LSTM-XGBoost\"\n",
    ")"
   ]
  },
  {
   "cell_type": "code",
   "execution_count": null,
   "metadata": {},
   "outputs": [],
   "source": [
    "# process evaluate models\n",
    "r, p, mae, rmse, mape = evaluate_models(\n",
    "  ytrue=y_test,\n",
    "  ypred=lstm_xgb,\n",
    ")\n",
    "\n",
    "# results evaluate models\n",
    "print(\"Evaluate Models with SBi-LSTM-XGBoost\")\n",
    "print(\"-------------------------------------\")\n",
    "print(\"R       : \"+str(r))\n",
    "print(\"P-value : \"+str(p))\n",
    "print(\"MAE     : \"+str(mae))\n",
    "print(\"RMSE    : \"+str(rmse))\n",
    "print(\"MAPE    : \"+str(mape))"
   ]
  },
  {
   "cell_type": "code",
   "execution_count": null,
   "metadata": {},
   "outputs": [],
   "source": [
    "# process evaluate models\n",
    "r, p, mae, rmse, mape = evaluate_models(\n",
    "  ytrue=inverse(scaler, y_test.reshape(-1,1)),\n",
    "  ypred=inverse(scaler, lstm_xgb.reshape(-1,1)),\n",
    ")\n",
    "\n",
    "# results evaluate models\n",
    "print(\"Evaluate Models with SBi-LSTM-XGBoost\")\n",
    "print(\"-------------------------------------\")\n",
    "print(\"R       : \"+str(r))\n",
    "print(\"P-value : \"+str(p))\n",
    "print(\"MAE     : \"+str(mae))\n",
    "print(\"RMSE    : \"+str(rmse))\n",
    "print(\"MAPE    : \"+str(mape))"
   ]
  },
  {
   "cell_type": "code",
   "execution_count": null,
   "metadata": {},
   "outputs": [],
   "source": [
    "# show result predictions\n",
    "lineplot4(\n",
    "\n",
    "  # sumbu x\n",
    "  date=dataset[\"acq_date\"].iloc[216:-1],\n",
    "  \n",
    "  # data actual\n",
    "  ytrue=inverse(scaler, y_test.reshape(-1,1)),\n",
    "\n",
    "  # hasil SBi-LSTM\n",
    "  ypred1=inverse(scaler, lstm_predictions.reshape(-1,1)),\n",
    "  label1=\"results SBi-LSTM\",\n",
    "  \n",
    "  # hasil SBi-LSTM-XGBoost\n",
    "  ypred2=inverse(scaler, lstm_xgb.reshape(-1,1)),\n",
    "  label2=\"results SBi-LSTM-XGBoost\",\n",
    "\n",
    "  # title plot\n",
    "  title=\"Results Prediction of Hotspot with SBi-LSTM-XGBoost\"\n",
    ")"
   ]
  },
  {
   "cell_type": "markdown",
   "metadata": {},
   "source": [
    "### 5. Algoritma GRU-RNN"
   ]
  },
  {
   "cell_type": "code",
   "execution_count": null,
   "metadata": {},
   "outputs": [],
   "source": [
    "# set random number\n",
    "import tensorflow as tf\n",
    "tf.random.set_seed(42)"
   ]
  },
  {
   "cell_type": "markdown",
   "metadata": {},
   "source": [
    "#### 5.1 SBi-GRU-RNN"
   ]
  },
  {
   "cell_type": "code",
   "execution_count": null,
   "metadata": {},
   "outputs": [],
   "source": [
    "# call models GRU\n",
    "# param : algorithm, timestep, activation, optimizer, dropout\n",
    "gru_model = get_models(\n",
    "  algorithm=\"SBi-GRU\", timestep=x_train, activation=\"relu\", optimizer=\"rmsprop\", dropout=0.20\n",
    ")"
   ]
  },
  {
   "cell_type": "code",
   "execution_count": null,
   "metadata": {},
   "outputs": [],
   "source": [
    "# compile models\n",
    "# param : model, batch_size, epochs, x_train, y_train, x_test, y_test\n",
    "gru_history, gru_predictions = get_prediction(\n",
    "  model=gru_model, batch_size=16, epochs=1500, x_train=x_train, y_train=y_train, x_test=x_test, y_test=y_test\n",
    ")"
   ]
  },
  {
   "cell_type": "code",
   "execution_count": null,
   "metadata": {},
   "outputs": [],
   "source": [
    "# show loss function\n",
    "lineplot2(\n",
    "  x1=gru_history.epoch, y1=gru_history.history['loss'], label1=\"Training\",\n",
    "  x2=gru_history.epoch, y2=gru_history.history['val_loss'], label2=\"Validation\",\n",
    "  title=\"Loss Function of SBi-GRU\"\n",
    ")\n"
   ]
  },
  {
   "cell_type": "code",
   "execution_count": null,
   "metadata": {},
   "outputs": [],
   "source": [
    "# show result predictions\n",
    "scaler,_ = normalized(dataset, [\"hotspot\"])\n",
    "lineplot3(\n",
    "  x1=dataset[\"acq_date\"].iloc[216:-1], y1=inverse(scaler, y_test.reshape(-1,1)), label1=\"actual data\",\n",
    "  x2=dataset[\"acq_date\"].iloc[216:-1], y2=inverse(scaler, gru_predictions.reshape(-1,1)), label2=\"results predictions\",\n",
    "  title=\"Results of Predictions Hotspot with SBi-GRU\"\n",
    ")"
   ]
  },
  {
   "cell_type": "code",
   "execution_count": null,
   "metadata": {},
   "outputs": [],
   "source": [
    "# process evaluate models\n",
    "r, p, mae, rmse, mape = evaluate_models(\n",
    "  ytrue=y_test,\n",
    "  ypred=gru_predictions,\n",
    ")\n",
    "\n",
    "# results evaluate models\n",
    "print(\"Evaluate Models with SBi-GRU\")\n",
    "print(\"-----------------------------\")\n",
    "print(\"R       : \"+str(r))\n",
    "print(\"P-value : \"+str(p))\n",
    "print(\"MAE     : \"+str(mae))\n",
    "print(\"RMSE    : \"+str(rmse))\n",
    "print(\"MAPE    : \"+str(mape))\n"
   ]
  },
  {
   "cell_type": "code",
   "execution_count": null,
   "metadata": {},
   "outputs": [],
   "source": [
    "# process evaluate models\n",
    "r, p, mae, rmse, mape = evaluate_models(\n",
    "  ytrue=inverse(scaler, y_test.reshape(-1,1)),\n",
    "  ypred=inverse(scaler, gru_predictions.reshape(-1,1)),\n",
    ")\n",
    "\n",
    "# results evaluate models\n",
    "print(\"Evaluate Models with SBi-GRU\")\n",
    "print(\"-----------------------------\")\n",
    "print(\"R       : \"+str(r))\n",
    "print(\"P-value : \"+str(p))\n",
    "print(\"MAE     : \"+str(mae))\n",
    "print(\"RMSE    : \"+str(rmse))\n",
    "print(\"MAPE    : \"+str(mape*100))"
   ]
  },
  {
   "cell_type": "markdown",
   "metadata": {},
   "source": [
    "#### 5.2 SBi-GRU-XGBoost"
   ]
  },
  {
   "cell_type": "code",
   "execution_count": null,
   "metadata": {},
   "outputs": [],
   "source": [
    "# call models XGBoost\n",
    "gru_xgb = get_XGBoost(\n",
    "  xtrue=x_test, ytrue=y_test, ypred=gru_predictions\n",
    ")"
   ]
  },
  {
   "cell_type": "code",
   "execution_count": null,
   "metadata": {},
   "outputs": [],
   "source": [
    "# show result predictions\n",
    "scaler,_ = normalized(dataset, [\"hotspot\"])\n",
    "lineplot3(\n",
    "  x1=dataset[\"acq_date\"].iloc[216:-1], y1=inverse(scaler, y_test.reshape(-1,1)), label1=\"actual data\",\n",
    "  x2=dataset[\"acq_date\"].iloc[216:-1], y2=inverse(scaler, gru_xgb.reshape(-1,1)), label2=\"results predictions\",\n",
    "  title=\"Results of Predictions Hotspot with SBi-GRU-XGBoost\"\n",
    ")"
   ]
  },
  {
   "cell_type": "code",
   "execution_count": null,
   "metadata": {},
   "outputs": [],
   "source": [
    "# process evaluate models\n",
    "r, p, mae, rmse, mape = evaluate_models(\n",
    "  ytrue=y_test,\n",
    "  ypred=gru_xgb,\n",
    ")\n",
    "\n",
    "# results evaluate models\n",
    "print(\"Evaluate Models with SBi-GRU-XGBoost\")\n",
    "print(\"-------------------------------------\")\n",
    "print(\"R       : \"+str(r))\n",
    "print(\"P-value : \"+str(p))\n",
    "print(\"MAE     : \"+str(mae))\n",
    "print(\"RMSE    : \"+str(rmse))\n",
    "print(\"MAPE    : \"+str(mape))"
   ]
  },
  {
   "cell_type": "code",
   "execution_count": null,
   "metadata": {},
   "outputs": [],
   "source": [
    "# process evaluate models\n",
    "r, p, mae, rmse, mape = evaluate_models(\n",
    "  ytrue=inverse(scaler, y_test.reshape(-1,1)),\n",
    "  ypred=inverse(scaler, gru_xgb.reshape(-1,1)),\n",
    ")\n",
    "\n",
    "# results evaluate models\n",
    "print(\"Evaluate Models with SBi-GRU-XGBoost\")\n",
    "print(\"-------------------------------------\")\n",
    "print(\"R       : \"+str(r))\n",
    "print(\"P-value : \"+str(p))\n",
    "print(\"MAE     : \"+str(mae))\n",
    "print(\"RMSE    : \"+str(rmse))\n",
    "print(\"MAPE    : \"+str(mape))"
   ]
  },
  {
   "cell_type": "code",
   "execution_count": null,
   "metadata": {},
   "outputs": [],
   "source": [
    "# show result predictions\n",
    "lineplot4(\n",
    "\n",
    "  # sumbu x\n",
    "  date=dataset[\"acq_date\"].iloc[216:-1],\n",
    "  \n",
    "  # data actual\n",
    "  ytrue=inverse(scaler, y_test.reshape(-1,1)),\n",
    "\n",
    "  # hasil SBi-GRU\n",
    "  ypred1=inverse(scaler, gru_predictions.reshape(-1,1)),\n",
    "  label1=\"results SBi-GRU\",\n",
    "  \n",
    "  # hasil SBi-GRU-XGBoost\n",
    "  ypred2=inverse(scaler, gru_xgb.reshape(-1,1)),\n",
    "  label2=\"results SBi-GRU-XGBoost\",\n",
    "\n",
    "  # title plot\n",
    "  title=\"Results Prediction of Hotspot with SBi-GRU-XGBoost\"\n",
    ")"
   ]
  },
  {
   "cell_type": "markdown",
   "metadata": {},
   "source": [
    "### 6. Results Predictions Hotspot"
   ]
  },
  {
   "cell_type": "code",
   "execution_count": null,
   "metadata": {},
   "outputs": [],
   "source": [
    "# Results predictions\n",
    "pd.concat([\n",
    "  pd.DataFrame(np.array(dataset[\"acq_date\"].iloc[217:]), columns=[\"Date\"]),\n",
    "  pd.DataFrame(np.round(inverse(scaler, y_test.reshape(-1,1)),0), columns=[\"Ytrue\"]),\n",
    "  pd.DataFrame(np.round(inverse(scaler, lstm_predictions.reshape(-1,1)),0), columns=[\"SBi-LSTM\"]),\n",
    "  pd.DataFrame(np.round(inverse(scaler, lstm_xgb.reshape(-1,1)),0), columns=[\"SBi-LSTM-XGBoost\"]),\n",
    "  pd.DataFrame(np.round(inverse(scaler, gru_predictions.reshape(-1,1)),0), columns=[\"SBi-GRU\"]),\n",
    "  pd.DataFrame(np.round(inverse(scaler, gru_xgb.reshape(-1,1)),0), columns=[\"SBi-GRU-XGBoost\"]),\n",
    "], axis=1).tail()\n",
    "# \n",
    "# \n",
    "# #.to_csv(\"hasil prediksi titik panas M2.csv\", index=False)"
   ]
  },
  {
   "cell_type": "code",
   "execution_count": null,
   "metadata": {},
   "outputs": [],
   "source": []
  }
 ],
 "metadata": {
  "kernelspec": {
   "display_name": "base",
   "language": "python",
   "name": "python3"
  },
  "language_info": {
   "codemirror_mode": {
    "name": "ipython",
    "version": 3
   },
   "file_extension": ".py",
   "mimetype": "text/x-python",
   "name": "python",
   "nbconvert_exporter": "python",
   "pygments_lexer": "ipython3",
   "version": "3.11.9"
  }
 },
 "nbformat": 4,
 "nbformat_minor": 2
}
