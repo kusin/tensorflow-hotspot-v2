{
 "cells": [
  {
   "cell_type": "markdown",
   "metadata": {},
   "source": [
    "## M1 - Model prediksi titik panas di Sumatera Selatan 2001 - 2023"
   ]
  },
  {
   "cell_type": "code",
   "execution_count": null,
   "metadata": {},
   "outputs": [],
   "source": [
    "# load all functions\n",
    "from C01_data_collection import *\n",
    "from C02_visualization import *\n",
    "from C03_preprocessing import *\n",
    "from C04_model_predictions import *\n",
    "from C05_model_evaluate import *"
   ]
  },
  {
   "cell_type": "markdown",
   "metadata": {},
   "source": [
    "- config models"
   ]
  },
  {
   "cell_type": "code",
   "execution_count": null,
   "metadata": {},
   "outputs": [],
   "source": [
    "# set random number\n",
    "import random as rm\n",
    "rm.seed(1234)\n",
    "\n",
    "# set random number\n",
    "import numpy as np\n",
    "np.random.seed(1234)\n",
    "\n",
    "# set random number\n",
    "import tensorflow as tf\n",
    "tf.random.set_seed(1234)"
   ]
  },
  {
   "cell_type": "markdown",
   "metadata": {},
   "source": [
    "### 1. Akuisisi Data"
   ]
  },
  {
   "cell_type": "code",
   "execution_count": null,
   "metadata": {},
   "outputs": [],
   "source": [
    "# load dataset\n",
    "dataset = data_hotspot(\"dataset_enso.csv\")\n",
    "print(dataset.tail())"
   ]
  },
  {
   "cell_type": "code",
   "execution_count": null,
   "metadata": {},
   "outputs": [],
   "source": [
    "# hasil load dataset\n",
    "lineplot1(x=dataset[\"acq_date\"], y=dataset[\"hotspot\"], label=\"hotspot\", title=\"Hotspots in South Sumatra 2001 - 2023\")"
   ]
  },
  {
   "cell_type": "markdown",
   "metadata": {},
   "source": [
    "### 2. Praproses Data"
   ]
  },
  {
   "cell_type": "code",
   "execution_count": null,
   "metadata": {},
   "outputs": [],
   "source": [
    "# proses normalisasi min-max\n",
    "scaler, scaled = normalized(dataset, [\"hotspot\"])"
   ]
  },
  {
   "cell_type": "code",
   "execution_count": null,
   "metadata": {},
   "outputs": [],
   "source": [
    "# hasil normalisasi min-max\n",
    "lineplot1(x=dataset[\"acq_date\"], y=scaled, label=\"hotspot\", title=\"Hotspots in South Sumatra 2001 - 2023\")"
   ]
  },
  {
   "cell_type": "markdown",
   "metadata": {},
   "source": [
    "### 3. Pembagian Data"
   ]
  },
  {
   "cell_type": "code",
   "execution_count": null,
   "metadata": {},
   "outputs": [],
   "source": [
    "# proses pembagian data\n",
    "train_data, test_data = splitting(scaled)\n",
    "print(train_data.shape, test_data.shape)"
   ]
  },
  {
   "cell_type": "code",
   "execution_count": null,
   "metadata": {},
   "outputs": [],
   "source": [
    "# hasil pembagian data\n",
    "lineplot2(\n",
    "  x1=dataset[\"acq_date\"].iloc[:len(train_data)], y1= train_data, label1=\"Training Data\",\n",
    "  x2=dataset[\"acq_date\"].iloc[len(train_data):], y2=test_data, label2=\"Testing Data\",\n",
    "  title=\"Results of Splitting Data\"\n",
    ")"
   ]
  },
  {
   "cell_type": "markdown",
   "metadata": {},
   "source": [
    "### 4. Supervised Learning"
   ]
  },
  {
   "cell_type": "code",
   "execution_count": null,
   "metadata": {},
   "outputs": [],
   "source": [
    "# hasil supervised learning\n",
    "x_train, y_train, x_test, y_test = results_univariate_supervised(train_data, test_data)"
   ]
  },
  {
   "cell_type": "code",
   "execution_count": null,
   "metadata": {},
   "outputs": [],
   "source": [
    "# cek dimensi data\n",
    "print(x_train.shape, y_train.shape)"
   ]
  },
  {
   "cell_type": "code",
   "execution_count": null,
   "metadata": {},
   "outputs": [],
   "source": [
    "# cek dimensi data\n",
    "print(x_test.shape, y_test.shape)"
   ]
  },
  {
   "cell_type": "markdown",
   "metadata": {},
   "source": [
    "### 5. Algoritma LSTM-RNN"
   ]
  },
  {
   "cell_type": "markdown",
   "metadata": {},
   "source": [
    "#### 5.1 SBi-LSTM-RNN"
   ]
  },
  {
   "cell_type": "code",
   "execution_count": null,
   "metadata": {},
   "outputs": [],
   "source": [
    "# call models LSTM\n",
    "# param : algorithm, timestep, activation, optimizer, dropout\n",
    "lstm_model = get_models_univariate(\n",
    "  algorithm=\"SBi-LSTM\", timestep=x_train, activation=\"selu\", optimizer=\"sgd\", dropout=0.15\n",
    ")"
   ]
  },
  {
   "cell_type": "code",
   "execution_count": null,
   "metadata": {},
   "outputs": [],
   "source": [
    "# compile models\n",
    "# param : model, batch_size, epochs, x_train, y_train, x_test, y_test\n",
    "lstm_history, lstm_predictions = get_prediction(\n",
    "  model=lstm_model, batch_size=8, epochs=1500, x_train=x_train, y_train=y_train, x_test=x_test, y_test=y_test\n",
    ")"
   ]
  },
  {
   "cell_type": "code",
   "execution_count": null,
   "metadata": {},
   "outputs": [],
   "source": [
    "# show loss function\n",
    "lineplot2(\n",
    "  x1=lstm_history.epoch, y1=lstm_history.history['loss'], label1=\"Training\",\n",
    "  x2=lstm_history.epoch, y2=lstm_history.history['val_loss'], label2=\"Validation\",\n",
    "  title=\"Loss Function of SBi-LSTM\"\n",
    ")"
   ]
  },
  {
   "cell_type": "code",
   "execution_count": null,
   "metadata": {},
   "outputs": [],
   "source": [
    "# show result predictions\n",
    "lineplot3(\n",
    "  x1=dataset[\"acq_date\"].iloc[len(train_data)+1:], y1=inverse(scaler,y_test.reshape(-1,1)), label1=\"actual data\",\n",
    "  x2=dataset[\"acq_date\"].iloc[len(train_data)+1:], y2=inverse(scaler,lstm_predictions.reshape(-1,1)), label2=\"results predictions\",\n",
    "  title=\"Results of Predictions Hotspot with SBi-LSTM\"\n",
    ")"
   ]
  },
  {
   "cell_type": "code",
   "execution_count": null,
   "metadata": {},
   "outputs": [],
   "source": [
    "# process evaluate models\n",
    "r, p, mae, rmse, mape = evaluate_models(\n",
    "  ytrue=inverse(scaler, y_test.reshape(-1,1)),\n",
    "  ypred=inverse(scaler, lstm_predictions.reshape(-1,1)),\n",
    ")\n",
    "\n",
    "# results evaluate models\n",
    "print(\"R       : \"+str(r))\n",
    "print(\"P-value : \"+str(p))\n",
    "print(\"MAE     : \"+str(mae))\n",
    "print(\"RMSE    : \"+str(rmse))\n",
    "print(\"MAPE    : \"+str(mape*100))"
   ]
  },
  {
   "cell_type": "markdown",
   "metadata": {},
   "source": [
    "#### 5.2 SBi-LSTM-XGBoost"
   ]
  },
  {
   "cell_type": "code",
   "execution_count": null,
   "metadata": {},
   "outputs": [],
   "source": [
    "# call models XGBoost\n",
    "xgb_predictions = get_XGBoost(\n",
    "  xtrue=x_test, ytrue=y_test, ypred=lstm_predictions\n",
    ")"
   ]
  },
  {
   "cell_type": "code",
   "execution_count": null,
   "metadata": {},
   "outputs": [],
   "source": [
    "# show result predictions\n",
    "lineplot3(\n",
    "  x1=dataset[\"acq_date\"].iloc[len(train_data)+1:], y1=inverse(scaler, y_test.reshape(-1,1)), label1=\"actual data\",\n",
    "  x2=dataset[\"acq_date\"].iloc[len(train_data)+1:], y2=inverse(scaler, xgb_predictions.reshape(-1,1)), label2=\"results predictions\",\n",
    "  title=\"Results of Predictions Hotspot with SBi-LSTM\"\n",
    ")"
   ]
  },
  {
   "cell_type": "code",
   "execution_count": null,
   "metadata": {},
   "outputs": [],
   "source": [
    "# process evaluate models\n",
    "r, p, mae, rmse, mape = evaluate_models(\n",
    "  ytrue=inverse(scaler, y_test.reshape(-1,1)),\n",
    "  ypred=inverse(scaler, xgb_predictions.reshape(-1,1)),\n",
    ")\n",
    "\n",
    "# results evaluate models\n",
    "print(\"R       : \"+str(r))\n",
    "print(\"P-value : \"+str(p))\n",
    "print(\"MAE     : \"+str(mae))\n",
    "print(\"RMSE    : \"+str(rmse))\n",
    "print(\"MAPE    : \"+str(mape))"
   ]
  },
  {
   "cell_type": "code",
   "execution_count": null,
   "metadata": {},
   "outputs": [],
   "source": [
    "# show result predictions\n",
    "lineplot4(\n",
    "\n",
    "  # sumbu x\n",
    "  date=dataset[\"acq_date\"].iloc[len(train_data)+1:],\n",
    "  \n",
    "  # data actual\n",
    "  ytrue=inverse(scaler, y_test.reshape(-1,1)),\n",
    "\n",
    "  # hasil SBi-LSTM\n",
    "  ypred1=inverse(scaler, lstm_predictions.reshape(-1,1)),\n",
    "  label1=\"results SBi-LSTM\",\n",
    "  \n",
    "  # hasil SBi-LSTM-XGBoost\n",
    "  ypred2=inverse(scaler, xgb_predictions.reshape(-1,1)),\n",
    "  label2=\"results SBi-LSTM-XGBoost\",\n",
    "\n",
    "  # title plot\n",
    "  title=\"Results Prediction of Hotspot with SBi-LSTM-XGBoost\"\n",
    ")"
   ]
  },
  {
   "cell_type": "markdown",
   "metadata": {},
   "source": [
    "### 6. Algoritma GRU-RNN"
   ]
  },
  {
   "cell_type": "markdown",
   "metadata": {},
   "source": [
    "#### 6.1 SBi-GRU-RNN"
   ]
  },
  {
   "cell_type": "code",
   "execution_count": null,
   "metadata": {},
   "outputs": [],
   "source": [
    "# call models GRU\n",
    "# param : algorithm, timestep, activation, optimizer, dropout\n",
    "gru_model = get_models_univariate(\n",
    "  algorithm=\"SBi-GRU\", timestep=x_train, activation=\"selu\", optimizer=\"sgd\", dropout=0.25\n",
    ")"
   ]
  },
  {
   "cell_type": "code",
   "execution_count": null,
   "metadata": {},
   "outputs": [],
   "source": [
    "# compile models\n",
    "# param : model, batch_size, epochs, x_train, y_train, x_test, y_test\n",
    "gru_history, gru_predictions = get_prediction(\n",
    "  model=gru_model, batch_size=4, epochs=1500, x_train=x_train, y_train=y_train, x_test=x_test, y_test=y_test\n",
    ")"
   ]
  },
  {
   "cell_type": "code",
   "execution_count": null,
   "metadata": {},
   "outputs": [],
   "source": [
    "# show loss function\n",
    "lineplot2(\n",
    "  x1=gru_history.epoch, y1=gru_history.history['loss'], label1=\"Training\",\n",
    "  x2=gru_history.epoch, y2=gru_history.history['val_loss'], label2=\"Validation\",\n",
    "  title=\"Loss Function of SBi-GRU\"\n",
    ")"
   ]
  },
  {
   "cell_type": "code",
   "execution_count": null,
   "metadata": {},
   "outputs": [],
   "source": [
    "# show result predictions\n",
    "lineplot3(\n",
    "  x1=dataset[\"acq_date\"].iloc[len(train_data)+1:], y1=inverse(scaler,y_test.reshape(-1,1)), label1=\"actual data\",\n",
    "  x2=dataset[\"acq_date\"].iloc[len(train_data)+1:], y2=inverse(scaler,gru_predictions.reshape(-1,1)), label2=\"results predictions\",\n",
    "  title=\"Results of Predictions Hotspot with SBi-GRU\"\n",
    ")"
   ]
  },
  {
   "cell_type": "code",
   "execution_count": null,
   "metadata": {},
   "outputs": [],
   "source": [
    "# process evaluate models\n",
    "r, p, mae, rmse, mape = evaluate_models(\n",
    "  ytrue=inverse(scaler, y_test.reshape(-1,1)),\n",
    "  ypred=inverse(scaler, gru_predictions.reshape(-1,1)),\n",
    ")\n",
    "\n",
    "# results evaluate models\n",
    "print(\"R       : \"+str(r))\n",
    "print(\"P-value : \"+str(p))\n",
    "print(\"MAE     : \"+str(mae))\n",
    "print(\"RMSE    : \"+str(rmse))\n",
    "print(\"MAPE    : \"+str(mape*100))\n"
   ]
  },
  {
   "cell_type": "markdown",
   "metadata": {},
   "source": [
    "#### 6.1 SBi-GRU-XGBoost"
   ]
  },
  {
   "cell_type": "code",
   "execution_count": null,
   "metadata": {},
   "outputs": [],
   "source": [
    "# call models XGBoost\n",
    "xgb_predictions = get_XGBoost(\n",
    "  xtrue=x_test,\n",
    "  ytrue=y_test,\n",
    "  ypred=gru_predictions\n",
    ")"
   ]
  },
  {
   "cell_type": "code",
   "execution_count": null,
   "metadata": {},
   "outputs": [],
   "source": [
    "# show result predictions\n",
    "lineplot3(\n",
    "  x1=dataset[\"acq_date\"].iloc[len(train_data)+1:], y1=inverse(scaler, y_test.reshape(-1,1)), label1=\"actual data\",\n",
    "  x2=dataset[\"acq_date\"].iloc[len(train_data)+1:], y2=inverse(scaler, xgb_predictions.reshape(-1,1)), label2=\"results predictions\",\n",
    "  title=\"Results of Predictions Hotspot with SBi-GRU\"\n",
    ")"
   ]
  },
  {
   "cell_type": "code",
   "execution_count": null,
   "metadata": {},
   "outputs": [],
   "source": [
    "# process evaluate models\n",
    "r, p, mae, rmse, mape = evaluate_models(\n",
    "  ytrue=inverse(scaler, y_test.reshape(-1,1)),\n",
    "  ypred=inverse(scaler, xgb_predictions.reshape(-1,1)),\n",
    ")\n",
    "\n",
    "# results evaluate models\n",
    "print(\"R       : \"+str(r))\n",
    "print(\"P-value : \"+str(p))\n",
    "print(\"MAE     : \"+str(mae))\n",
    "print(\"RMSE    : \"+str(rmse))\n",
    "print(\"MAPE    : \"+str(mape))"
   ]
  },
  {
   "cell_type": "code",
   "execution_count": null,
   "metadata": {},
   "outputs": [],
   "source": [
    "# show result predictions\n",
    "lineplot4(\n",
    "\n",
    "  # sumbu x\n",
    "  date=dataset[\"acq_date\"].iloc[len(train_data)+1:],\n",
    "  \n",
    "  # data actual\n",
    "  ytrue=inverse(scaler, y_test.reshape(-1,1)),\n",
    "\n",
    "  # hasil SBi-GRU\n",
    "  ypred1=inverse(scaler, gru_predictions.reshape(-1,1)),\n",
    "  label1=\"results SBi-GRU\",\n",
    "  \n",
    "  # hasil SBi-GRU-XGBoost\n",
    "  ypred2=inverse(scaler, xgb_predictions.reshape(-1,1)),\n",
    "  label2=\"results SBi-GRU-XGBoost\",\n",
    "\n",
    "  # title plot\n",
    "  title=\"Results Prediction of Hotspot with SBi-GRU-XGBoost\"\n",
    ")"
   ]
  },
  {
   "cell_type": "code",
   "execution_count": null,
   "metadata": {},
   "outputs": [],
   "source": []
  }
 ],
 "metadata": {
  "kernelspec": {
   "display_name": "base",
   "language": "python",
   "name": "python3"
  },
  "language_info": {
   "codemirror_mode": {
    "name": "ipython",
    "version": 3
   },
   "file_extension": ".py",
   "mimetype": "text/x-python",
   "name": "python",
   "nbconvert_exporter": "python",
   "pygments_lexer": "ipython3",
   "version": "3.11.9"
  }
 },
 "nbformat": 4,
 "nbformat_minor": 2
}
